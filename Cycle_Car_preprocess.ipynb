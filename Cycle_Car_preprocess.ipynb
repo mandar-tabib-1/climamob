{
 "cells": [
  {
   "cell_type": "markdown",
   "metadata": {},
   "source": [
    "Import dependencies"
   ]
  },
  {
   "cell_type": "code",
   "execution_count": 2,
   "metadata": {},
   "outputs": [],
   "source": [
    "import numpy as np \n",
    "import pandas as pd \n",
    "import csv\n",
    "#from sklearn.preprocessing import Imputer"
   ]
  },
  {
   "cell_type": "markdown",
   "metadata": {},
   "source": [
    "Import the file containing the location data of all the sensors (cycles + cars). The file aurrently has only the location data of sensors counting cars."
   ]
  },
  {
   "cell_type": "code",
   "execution_count": 2,
   "metadata": {},
   "outputs": [
    {
     "name": "stdout",
     "output_type": "stream",
     "text": [
      "155\n"
     ]
    }
   ],
   "source": [
    "location_data = pd.read_csv('tellepunkter.csv',sep=',')\n",
    "#Look into the format of the imported data\n",
    "location_data.head()\n",
    "OSLOLAT1=6642806\n",
    "OSLOLONG1=597912\n",
    "\n",
    "location_data['DTC']=(((location_data['LATITUDE']-OSLOLAT1)**2 +(location_data['LONGITUDE']-OSLOLONG1)**2)**0.5)/1000\n",
    "\n",
    "print(len(location_data['DTC']))\n",
    "location_data=location_data.dropna()\n",
    "#print(len(location_data['DTC']))\n",
    "r1=location_data['DTC'].max()\n",
    "r2=location_data['DTC'].min()\n",
    "range1=r1-r2\n",
    "setlim=0.04*range1;\n",
    "#print(setlim,r1,r2)\n",
    "location_data['SENSOR_TYPE']\n",
    "#Find row index with nan \n",
    "#print(location_data.isnull().any(axis=0))\n",
    "#inds = location_data.isnull().any(1).nonzero()[0]\n",
    "#print(location_data.loc[inds[40:],'DTC'])\n",
    "\n",
    "#Find index of sensor with sykkel\n",
    "\n",
    "idx = location_data.index[location_data['SENSOR_TYPE']== 'Sykkel'].tolist()\n",
    "#print(location_data.loc[idx])\n",
    "#print(idx)\n",
    "#abc=location_data.loc[idx,'SENSOR_ID']\n",
    "#print(abc)\n",
    "#print(location_data[idx,'SENSOR_ID'])"
   ]
  },
  {
   "cell_type": "markdown",
   "metadata": {},
   "source": [
    "Import the car, cycle and met data"
   ]
  },
  {
   "cell_type": "code",
   "execution_count": 3,
   "metadata": {
    "scrolled": true
   },
   "outputs": [
    {
     "name": "stdout",
     "output_type": "stream",
     "text": [
      "Rows in car data  101669\n",
      "carpercentmissing 0\n",
      "carpercentmissing 0.0\n"
     ]
    },
    {
     "data": {
      "text/html": [
       "<div>\n",
       "<style>\n",
       "    .dataframe thead tr:only-child th {\n",
       "        text-align: right;\n",
       "    }\n",
       "\n",
       "    .dataframe thead th {\n",
       "        text-align: left;\n",
       "    }\n",
       "\n",
       "    .dataframe tbody tr th {\n",
       "        vertical-align: top;\n",
       "    }\n",
       "</style>\n",
       "<table border=\"1\" class=\"dataframe\">\n",
       "  <thead>\n",
       "    <tr style=\"text-align: right;\">\n",
       "      <th></th>\n",
       "      <th>SENSOR_ID</th>\n",
       "      <th>YEAR</th>\n",
       "      <th>MONTH</th>\n",
       "      <th>DAY</th>\n",
       "      <th>STARTHOUR</th>\n",
       "      <th>DIRECTION</th>\n",
       "      <th>RESOLUTION</th>\n",
       "      <th>SUM</th>\n",
       "    </tr>\n",
       "  </thead>\n",
       "  <tbody>\n",
       "    <tr>\n",
       "      <th>0</th>\n",
       "      <td>300016</td>\n",
       "      <td>2015</td>\n",
       "      <td>2</td>\n",
       "      <td>1</td>\n",
       "      <td>0</td>\n",
       "      <td>1</td>\n",
       "      <td>HOURLY</td>\n",
       "      <td>381</td>\n",
       "    </tr>\n",
       "    <tr>\n",
       "      <th>1</th>\n",
       "      <td>300016</td>\n",
       "      <td>2015</td>\n",
       "      <td>2</td>\n",
       "      <td>1</td>\n",
       "      <td>1</td>\n",
       "      <td>1</td>\n",
       "      <td>HOURLY</td>\n",
       "      <td>284</td>\n",
       "    </tr>\n",
       "    <tr>\n",
       "      <th>2</th>\n",
       "      <td>300016</td>\n",
       "      <td>2015</td>\n",
       "      <td>2</td>\n",
       "      <td>1</td>\n",
       "      <td>2</td>\n",
       "      <td>1</td>\n",
       "      <td>HOURLY</td>\n",
       "      <td>165</td>\n",
       "    </tr>\n",
       "    <tr>\n",
       "      <th>3</th>\n",
       "      <td>300016</td>\n",
       "      <td>2015</td>\n",
       "      <td>2</td>\n",
       "      <td>1</td>\n",
       "      <td>3</td>\n",
       "      <td>1</td>\n",
       "      <td>HOURLY</td>\n",
       "      <td>98</td>\n",
       "    </tr>\n",
       "    <tr>\n",
       "      <th>4</th>\n",
       "      <td>300016</td>\n",
       "      <td>2015</td>\n",
       "      <td>2</td>\n",
       "      <td>1</td>\n",
       "      <td>4</td>\n",
       "      <td>1</td>\n",
       "      <td>HOURLY</td>\n",
       "      <td>87</td>\n",
       "    </tr>\n",
       "  </tbody>\n",
       "</table>\n",
       "</div>"
      ],
      "text/plain": [
       "   SENSOR_ID  YEAR  MONTH  DAY  STARTHOUR  DIRECTION RESOLUTION  SUM\n",
       "0     300016  2015      2    1          0          1    HOURLY   381\n",
       "1     300016  2015      2    1          1          1    HOURLY   284\n",
       "2     300016  2015      2    1          2          1    HOURLY   165\n",
       "3     300016  2015      2    1          3          1    HOURLY    98\n",
       "4     300016  2015      2    1          4          1    HOURLY    87"
      ]
     },
     "execution_count": 3,
     "metadata": {},
     "output_type": "execute_result"
    }
   ],
   "source": [
    "car_data = pd.read_csv('car_feb2015_feb2016.csv',sep=';')\n",
    "print(\"Rows in car data \",len(car_data))\n",
    "#print(car_data.isnull().sum(axis=0).sum())\n",
    "#print(cycle_data.count().sum())\n",
    "cs=car_data.size\n",
    "csmissing=car_data.isnull().sum(axis=0).sum()\n",
    "print('carpercentmissing',csmissing)\n",
    "print('carpercentmissing',(csmissing/cs))\n",
    "car_data=car_data.drop(['AVGSPEED '],axis=1)\n",
    "car_data.head()"
   ]
  },
  {
   "cell_type": "code",
   "execution_count": 4,
   "metadata": {},
   "outputs": [],
   "source": [
    "#for sensor_id in list(car_data['SENSOR_ID'].unique()):\n",
    "#    print(sensor_id)\n",
    "#Only retain the relevant sensor data location\n",
    "\n",
    "#location_data = location_data[(location_data.SENSOR_ID==300016)| (location_data.SENSOR_ID==300083)| \n",
    "#                              (location_data.SENSOR_ID==300099)| (location_data.SENSOR_ID==300233)| \n",
    "#                              (location_data.SENSOR_ID==302257)]\n"
   ]
  },
  {
   "cell_type": "code",
   "execution_count": 5,
   "metadata": {},
   "outputs": [
    {
     "name": "stdout",
     "output_type": "stream",
     "text": [
      "Rows in cycle data  868084\n",
      "504602\n",
      "4340420\n",
      "cyclepercentmissing 0.116256491307\n"
     ]
    },
    {
     "data": {
      "text/html": [
       "<div>\n",
       "<style>\n",
       "    .dataframe thead tr:only-child th {\n",
       "        text-align: right;\n",
       "    }\n",
       "\n",
       "    .dataframe thead th {\n",
       "        text-align: left;\n",
       "    }\n",
       "\n",
       "    .dataframe tbody tr th {\n",
       "        vertical-align: top;\n",
       "    }\n",
       "</style>\n",
       "<table border=\"1\" class=\"dataframe\">\n",
       "  <thead>\n",
       "    <tr style=\"text-align: right;\">\n",
       "      <th></th>\n",
       "      <th>SENSOR_ID</th>\n",
       "      <th>TIME</th>\n",
       "      <th>LANE</th>\n",
       "      <th>SUM</th>\n",
       "      <th>RESOLUTION</th>\n",
       "    </tr>\n",
       "  </thead>\n",
       "  <tbody>\n",
       "    <tr>\n",
       "      <th>0</th>\n",
       "      <td>10000010</td>\n",
       "      <td>2015-02-01T00:00:00</td>\n",
       "      <td>99.0</td>\n",
       "      <td>5.0</td>\n",
       "      <td>HOURLY</td>\n",
       "    </tr>\n",
       "    <tr>\n",
       "      <th>1</th>\n",
       "      <td>10000010</td>\n",
       "      <td>2015-02-01T01:00:00</td>\n",
       "      <td>99.0</td>\n",
       "      <td>2.0</td>\n",
       "      <td>HOURLY</td>\n",
       "    </tr>\n",
       "    <tr>\n",
       "      <th>2</th>\n",
       "      <td>10000010</td>\n",
       "      <td>2015-02-01T02:00:00</td>\n",
       "      <td>99.0</td>\n",
       "      <td>6.0</td>\n",
       "      <td>HOURLY</td>\n",
       "    </tr>\n",
       "    <tr>\n",
       "      <th>3</th>\n",
       "      <td>10000010</td>\n",
       "      <td>2015-02-01T03:00:00</td>\n",
       "      <td>99.0</td>\n",
       "      <td>5.0</td>\n",
       "      <td>HOURLY</td>\n",
       "    </tr>\n",
       "    <tr>\n",
       "      <th>4</th>\n",
       "      <td>10000010</td>\n",
       "      <td>2015-02-01T04:00:00</td>\n",
       "      <td>99.0</td>\n",
       "      <td>4.0</td>\n",
       "      <td>HOURLY</td>\n",
       "    </tr>\n",
       "  </tbody>\n",
       "</table>\n",
       "</div>"
      ],
      "text/plain": [
       "   SENSOR_ID                 TIME  LANE  SUM RESOLUTION\n",
       "0   10000010  2015-02-01T00:00:00  99.0  5.0     HOURLY\n",
       "1   10000010  2015-02-01T01:00:00  99.0  2.0     HOURLY\n",
       "2   10000010  2015-02-01T02:00:00  99.0  6.0     HOURLY\n",
       "3   10000010  2015-02-01T03:00:00  99.0  5.0     HOURLY\n",
       "4   10000010  2015-02-01T04:00:00  99.0  4.0     HOURLY"
      ]
     },
     "execution_count": 5,
     "metadata": {},
     "output_type": "execute_result"
    }
   ],
   "source": [
    "cycle_data = pd.read_csv('cycle_feb2015_feb2016.csv',sep=',')\n",
    "print(\"Rows in cycle data \",len(cycle_data))\n",
    "print(cycle_data.isnull().sum(axis=0).sum())\n",
    "#print(cycle_data.count().sum())\n",
    "print(cycle_data.size)\n",
    "print('cyclepercentmissing',cycle_data.isnull().sum(axis=0).sum()/cycle_data.size)\n",
    "\n",
    "cycle_data.head()\n"
   ]
  },
  {
   "cell_type": "code",
   "execution_count": 6,
   "metadata": {},
   "outputs": [
    {
     "name": "stdout",
     "output_type": "stream",
     "text": [
      "Rows in the met data  8784\n"
     ]
    },
    {
     "data": {
      "text/html": [
       "<div>\n",
       "<style>\n",
       "    .dataframe thead tr:only-child th {\n",
       "        text-align: right;\n",
       "    }\n",
       "\n",
       "    .dataframe thead th {\n",
       "        text-align: left;\n",
       "    }\n",
       "\n",
       "    .dataframe tbody tr th {\n",
       "        vertical-align: top;\n",
       "    }\n",
       "</style>\n",
       "<table border=\"1\" class=\"dataframe\">\n",
       "  <thead>\n",
       "    <tr style=\"text-align: right;\">\n",
       "      <th></th>\n",
       "      <th>St.no</th>\n",
       "      <th>Year</th>\n",
       "      <th>Mnth</th>\n",
       "      <th>Date</th>\n",
       "      <th>Time</th>\n",
       "      <th>DirectionDeg</th>\n",
       "      <th>Speedmps</th>\n",
       "      <th>TempC</th>\n",
       "      <th>Pptmm</th>\n",
       "      <th>Humidpercen</th>\n",
       "      <th>Snowdepthcm</th>\n",
       "    </tr>\n",
       "  </thead>\n",
       "  <tbody>\n",
       "    <tr>\n",
       "      <th>0</th>\n",
       "      <td>18700</td>\n",
       "      <td>2015</td>\n",
       "      <td>2</td>\n",
       "      <td>1</td>\n",
       "      <td>1</td>\n",
       "      <td>7</td>\n",
       "      <td>5.8</td>\n",
       "      <td>-1.0</td>\n",
       "      <td>0.0</td>\n",
       "      <td>75</td>\n",
       "      <td></td>\n",
       "    </tr>\n",
       "    <tr>\n",
       "      <th>1</th>\n",
       "      <td>18700</td>\n",
       "      <td>2015</td>\n",
       "      <td>2</td>\n",
       "      <td>1</td>\n",
       "      <td>2</td>\n",
       "      <td>6</td>\n",
       "      <td>6.2</td>\n",
       "      <td>-1.3</td>\n",
       "      <td>0.0</td>\n",
       "      <td>77</td>\n",
       "      <td></td>\n",
       "    </tr>\n",
       "    <tr>\n",
       "      <th>2</th>\n",
       "      <td>18700</td>\n",
       "      <td>2015</td>\n",
       "      <td>2</td>\n",
       "      <td>1</td>\n",
       "      <td>3</td>\n",
       "      <td>12</td>\n",
       "      <td>6.5</td>\n",
       "      <td>-1.5</td>\n",
       "      <td>0.1</td>\n",
       "      <td>79</td>\n",
       "      <td></td>\n",
       "    </tr>\n",
       "    <tr>\n",
       "      <th>3</th>\n",
       "      <td>18700</td>\n",
       "      <td>2015</td>\n",
       "      <td>2</td>\n",
       "      <td>1</td>\n",
       "      <td>4</td>\n",
       "      <td>7</td>\n",
       "      <td>5.9</td>\n",
       "      <td>-1.5</td>\n",
       "      <td>0.0</td>\n",
       "      <td>76</td>\n",
       "      <td></td>\n",
       "    </tr>\n",
       "    <tr>\n",
       "      <th>4</th>\n",
       "      <td>18700</td>\n",
       "      <td>2015</td>\n",
       "      <td>2</td>\n",
       "      <td>1</td>\n",
       "      <td>5</td>\n",
       "      <td>5</td>\n",
       "      <td>6.3</td>\n",
       "      <td>-1.7</td>\n",
       "      <td>0.0</td>\n",
       "      <td>77</td>\n",
       "      <td></td>\n",
       "    </tr>\n",
       "  </tbody>\n",
       "</table>\n",
       "</div>"
      ],
      "text/plain": [
       "   St.no  Year  Mnth  Date  Time  DirectionDeg  Speedmps  TempC  Pptmm  \\\n",
       "0  18700  2015     2     1     1             7       5.8   -1.0    0.0   \n",
       "1  18700  2015     2     1     2             6       6.2   -1.3    0.0   \n",
       "2  18700  2015     2     1     3            12       6.5   -1.5    0.1   \n",
       "3  18700  2015     2     1     4             7       5.9   -1.5    0.0   \n",
       "4  18700  2015     2     1     5             5       6.3   -1.7    0.0   \n",
       "\n",
       "   Humidpercen Snowdepthcm  \n",
       "0           75              \n",
       "1           77              \n",
       "2           79              \n",
       "3           76              \n",
       "4           77              "
      ]
     },
     "execution_count": 6,
     "metadata": {},
     "output_type": "execute_result"
    }
   ],
   "source": [
    "weather_data = pd.read_csv('Oslo_Blindern_Weather1.txt',sep=';')\n",
    "print(\"Rows in the met data \",len(weather_data))\n",
    "weather_data.head()"
   ]
  },
  {
   "cell_type": "code",
   "execution_count": 7,
   "metadata": {},
   "outputs": [],
   "source": [
    "#Looking at the data we realized that location of only 74 sensors is available. We convert the coordinates of these\n",
    "#sensors from UTM to lat-lon for plotting their location later in this notebook.\n",
    "latitude_UTM=location_data['LATITUDE'].values[0:74]\n",
    "longitude_UTM=location_data['LONGITUDE'].values[0:74]\n",
    "lats = []\n",
    "lons = []\n",
    "import utm\n",
    "for i in range(len(latitude_UTM)):\n",
    "    temp_lats,temp_lons=utm.to_latlon(longitude_UTM[i], latitude_UTM[i], 33, 'U')\n",
    "    lats.append(temp_lats),lons.append(temp_lons)\n",
    "labels=location_data['SENSOR_ID'].values[0:74]\n",
    "\n",
    "northerly=[59.55,59.52,59.57,59.55]\n",
    "easterly=[10.45,10.47,10.45,10.44]\n",
    "\n",
    "utm1 = []\n",
    "utm2 = []\n",
    "utmcord=np.zeros(len(northerly))\n",
    "for i in range(len(northerly)):\n",
    "    utmcoords=utm.from_latlon(northerly[i],easterly[i])\n",
    "    utm1.append(utmcoords[0]),utm2.append(utmcoords[1])\n",
    "    utmcord[i]=(((utmcoords[1]-OSLOLAT1)**2 +(utmcoords[0]-OSLOLONG1)**2)**0.5)/1000\n",
    "#print(utm1,utm2)\n",
    "#print(utmcord)\n",
    "index = [i for i in range(1, len(northerly)+1)]\n",
    "UTMadd=pd.DataFrame(utmcord,index,['DTC'])\n",
    "#print(cycle_data.SENSOR_ID.unique())\n",
    "UTMadd['SENSOR_ID']= [10000010,10000210,10000480,10000790]\n",
    "\n",
    "#print(UTMadd)"
   ]
  },
  {
   "cell_type": "code",
   "execution_count": 8,
   "metadata": {},
   "outputs": [
    {
     "ename": "SyntaxError",
     "evalue": "EOL while scanning string literal (<ipython-input-8-a32a12919595>, line 8)",
     "output_type": "error",
     "traceback": [
      "\u001b[0;36m  File \u001b[0;32m\"<ipython-input-8-a32a12919595>\"\u001b[0;36m, line \u001b[0;32m8\u001b[0m\n\u001b[0;31m    \"print(cycle_data.isnull().sum(axis=0).sum())\u001b[0m\n\u001b[0m                                                 ^\u001b[0m\n\u001b[0;31mSyntaxError\u001b[0m\u001b[0;31m:\u001b[0m EOL while scanning string literal\n"
     ]
    }
   ],
   "source": [
    "sum1=0\n",
    "for sensor_id in list(cycle_data['SENSOR_ID'].unique()):\n",
    "    missing=cycle_data[cycle_data.SENSOR_ID==sensor_id].isnull().values.any()\n",
    "    if missing==False:\n",
    "        print(\"Sensor id \",sensor_id, location_data[location_data.SENSOR_ID==sensor_id].SENSOR_NAVN.values,\n",
    "              \"Rows \",len(cycle_data[cycle_data.SENSOR_ID==sensor_id]))\n",
    "        sum1=sum1 + len(cycle_data[cycle_data.SENSOR_ID==sensor_id])\n",
    "#print(cycle_data.isnull().sum(axis=0).sum())\n",
    "#print(cycle_data.count().sum())\n",
    "#print('Cycle data size',cycle_data.size)\n",
    "print('cyclepercentmissing',cycle_data.isnull().sum(axis=0).sum()/cycle_data.size)"
   ]
  },
  {
   "cell_type": "markdown",
   "metadata": {},
   "source": [
    "I then used google earth to extract the coordinates of these locations.\n",
    " * 10000010 (59°55'59.53\"N,  10°45'27.53\"E)\n",
    " * 10000210 (59°52'33.68\"N,  10°47'21.58\"E)\n",
    " * 10000480 (59°57'17.15\"N,  10°45'40.28\"E) \n",
    " * 10000790 (59°55'14.14\"N,  10°44'31.83\"E)"
   ]
  },
  {
   "cell_type": "markdown",
   "metadata": {},
   "source": [
    "Let us plot these cordinates"
   ]
  },
  {
   "cell_type": "code",
   "execution_count": null,
   "metadata": {},
   "outputs": [],
   "source": [
    "lats.append(59+55/60+14/3600); lons.append(10+44/60+31/3600)\n",
    "lats.append(59+57/60+17/3600); lons.append(10+45/60+40/3600)\n",
    "lats.append(59+52/60+33/3600); lons.append(10+47/60+21/3600)\n",
    "lats.append(59+55/60+59/3600); lons.append(10+45/60+27/3600)\n",
    "\n",
    "labels=np.append(labels,'Ullevalsvn 19')\n",
    "labels=np.append(labels,'Maridalsvn')\n",
    "labels=np.append(labels,'Ekebergvn')\n",
    "labels=np.append(labels,'Akerselva')\n",
    "\n",
    "#from mpl_toolkits.basemap import Basemap\n",
    "#import matplotlib.pyplot as plt\n",
    "#map = Basemap(projection='merc',resolution = 'h', area_thresh = 0.1,\n",
    "#              llcrnrlon=10.6, llcrnrlat=59.8,urcrnrlon=11, urcrnrlat=60)\n",
    "#plt.figure(figsize=(16,16))\n",
    "#map.drawcoastlines(linewidth=0.2,color='grey')\n",
    "#map.drawcountries(linewidth=0.2,color='grey')\n",
    "#map.drawmapboundary()\n",
    "##map.shadedrelief()\n",
    "#map.bluemarble()\n",
    "#x,y = map(lons, lats)\n",
    "#map.plot(x, y, 'bo', markersize=7)\n",
    "#x_offsets = 20*np.ones_like(lats)\n",
    "#y_offsets = 400*np.ones_like(lats)\n",
    "#for label, xpt, ypt, x_offset, y_offset in zip(labels, x, y, x_offsets, y_offsets):\n",
    "#    plt.text(xpt+x_offset, ypt+y_offset, label)\n",
    "\n",
    "##plt.savefig('bessaker.pdf',bbox_inches='tight')\n",
    "#plt.show()\n"
   ]
  },
  {
   "cell_type": "markdown",
   "metadata": {},
   "source": [
    "Clean and format the data"
   ]
  },
  {
   "cell_type": "code",
   "execution_count": null,
   "metadata": {},
   "outputs": [],
   "source": [
    "cycle_data['TIME'] =  pd.to_datetime(cycle_data['TIME'], format='%Y-%m-%dT%H:%M:%S.%f')\n",
    "cycle_data = cycle_data.drop([\"RESOLUTION\"],axis=1)\n",
    "cycle_sensor_location = cycle_data.merge(location_data,on=['SENSOR_ID'])\n",
    "#print(cycle_data.SENSOR_ID.unique())\n",
    "cycle_data=cycle_data.merge(UTMadd,on=['SENSOR_ID']) \n",
    "print(cycle_data.head())\n",
    "#cycle_sensor_location['DTCcomp'] = np.where(cycle_sensor_location['DTC']-car_sensor_location['DTC'] <= setlim, 1,0)"
   ]
  },
  {
   "cell_type": "code",
   "execution_count": null,
   "metadata": {},
   "outputs": [],
   "source": [
    "df2=pd.DataFrame(weather_data[['Year','Mnth','Date','Time']]).rename(columns={'Year': 'year', 'Mnth': 'month', 'Date':'day','Time':'Hour'})\n",
    "df2.head()\n",
    "weather_data['TIME']=pd.to_datetime(df2)\n",
    "weather_data=weather_data.drop([\"Year\",\"Mnth\",\"Date\",\"Time\",\"Snowdepthcm\",\"DirectionDeg\"],axis=1)"
   ]
  },
  {
   "cell_type": "code",
   "execution_count": null,
   "metadata": {},
   "outputs": [],
   "source": [
    "df3=pd.DataFrame(car_data[['YEAR','MONTH','DAY','STARTHOUR']]).rename(columns={'YEAR': 'year', 'MONTH': 'month', 'DAY':'day','STARTHOUR':'Hour'})\n",
    "car_data['TIME']=pd.to_datetime(df3)\n",
    "car_data=car_data.drop([\"YEAR\",\"MONTH\",\"DAY\",\"STARTHOUR\",\"RESOLUTION\",\"RESOLUTION\"],axis=1)\n",
    "\n",
    "car_sensor_location = car_data.merge(location_data,on=['SENSOR_ID'])\n",
    "\n",
    "\n",
    "\n",
    "\n"
   ]
  },
  {
   "cell_type": "code",
   "execution_count": null,
   "metadata": {
    "collapsed": true
   },
   "outputs": [],
   "source": [
    "weather_data.rename(columns={'Speedmps':'WIND_MAG','Pptmm':\n",
    "                             'PPT','Humidpercen':'RH','TempC':'TEMP',\n",
    "                             'Snowdepthcm':'SNOW_DEPTH','St.no':'STATION_ID'}, inplace=True)"
   ]
  },
  {
   "cell_type": "markdown",
   "metadata": {},
   "source": [
    "Merge the car anc cycle data with the weather data"
   ]
  },
  {
   "cell_type": "code",
   "execution_count": null,
   "metadata": {},
   "outputs": [],
   "source": [
    "#print(\"Rows in car data\",len(car_data))\n",
    "#print(\"Rows in cycling \",len(cycle_data))\n",
    "#car_met_cycle1 = cycle_data.merge(car_data,on=['TIME,SENSOR_ID'])\n",
    "#print(\"Rows in cycling data combined with met \",len(car_met_cycle1))\n",
    "#car_met_cycle1 = pd.merge(car_data, cycle_data,on=['TIME','SENSOR_ID'])\n",
    "#print(\"Rows in cycling data combined with met \",len(car_met_cycle1) )\n",
    "#car_met_sensor.head()"
   ]
  },
  {
   "cell_type": "code",
   "execution_count": null,
   "metadata": {},
   "outputs": [],
   "source": [
    "cycle_met = cycle_data.merge(weather_data,on=['TIME'])\n"
   ]
  },
  {
   "cell_type": "code",
   "execution_count": null,
   "metadata": {},
   "outputs": [],
   "source": [
    "car_met = car_data.merge(weather_data,on=['TIME'])"
   ]
  },
  {
   "cell_type": "code",
   "execution_count": null,
   "metadata": {
    "collapsed": true
   },
   "outputs": [],
   "source": [
    "#car_met_cycle1_met=car_met_cycle1.merge(weather_data,on=['TIME'])"
   ]
  },
  {
   "cell_type": "code",
   "execution_count": null,
   "metadata": {},
   "outputs": [],
   "source": [
    "#print(\"Rows in car data combined cycle data with met \",len(car_met_cycle1_met))\n",
    "print(\"Rows in cycling data combined with met \",len(cycle_met))\n",
    "print(\"Rows in car data combined with met \",len(car_met))\n",
    "#print(\"Rows in car data combined cycle data with met \",car_met_cycle1_met.shape)"
   ]
  },
  {
   "cell_type": "code",
   "execution_count": null,
   "metadata": {},
   "outputs": [],
   "source": [
    "import calendar\n",
    "#cycle_met['WEEKDAY'] = cycle_met['TIME'].dt.weekday_name #Insert a column with weekday name\n",
    "cycle_met['WEEKDAY'] = cycle_met['TIME'].dt.day_name\n",
    "cycle_met['MONTH'] = cycle_met['TIME'].dt.month #Insert a column with month number\n",
    "cycle_met['MONTH'] = cycle_met['MONTH'].apply(lambda x: calendar.month_abbr[x]) #Conver month no. to month name\n",
    "cycle_met['HOUR'] = cycle_met['TIME'].dt.hour #Insert a column with hour\n",
    "\n",
    "#car_met['WEEKDAY'] = car_met['TIME'].dt.weekday_name\n",
    "car_met['WEEKDAY'] = car_met['TIME'].dt.day_name\n",
    "car_met['MONTH'] = car_met['TIME'].dt.month\n",
    "car_met['MONTH'] = car_met['MONTH'].apply(lambda x: calendar.month_abbr[x])\n",
    "car_met['HOUR'] = car_met['TIME'].dt.hour"
   ]
  },
  {
   "cell_type": "code",
   "execution_count": null,
   "metadata": {},
   "outputs": [],
   "source": [
    "for sensor_id in list(car_met['SENSOR_ID'].unique()):\n",
    "    missing=car_met[car_met.SENSOR_ID==sensor_id].isnull().values.any()\n",
    "    if missing==False:\n",
    "        print(\"Station id \",sensor_id)\n",
    "        "
   ]
  },
  {
   "cell_type": "markdown",
   "metadata": {},
   "source": [
    "The above are the only stations where no data is missing. let us retain only these sensor data."
   ]
  },
  {
   "cell_type": "code",
   "execution_count": null,
   "metadata": {},
   "outputs": [],
   "source": [
    "cycle_met_clean_data = cycle_met[(cycle_met.SENSOR_ID==10000210)| (cycle_met.SENSOR_ID==10000480) | (cycle_met.SENSOR_ID==10000790)]\n",
    "car_met_clean_data = car_met[(car_met.SENSOR_ID==300016)| (car_met.SENSOR_ID==300099) | (car_met.SENSOR_ID==300233) | (car_met.SENSOR_ID==302257\n",
    ")| (car_met.SENSOR_ID==300083)]"
   ]
  },
  {
   "cell_type": "markdown",
   "metadata": {},
   "source": [
    "Write them to csv files"
   ]
  },
  {
   "cell_type": "code",
   "execution_count": null,
   "metadata": {},
   "outputs": [],
   "source": [
    "cycle_met_clean_data.to_csv('cycle_met.csv',sep=';',index=False)\n",
    "car_met_clean_data.to_csv('car_met.csv',sep=';',index=False)\n",
    "cycle_met_clean_sensor_location = cycle_met_clean_data.merge(location_data,on=['SENSOR_ID'])\n",
    "car_met_clean_sensor_location = car_met_clean_data.merge(location_data,on=['SENSOR_ID'])"
   ]
  },
  {
   "cell_type": "code",
   "execution_count": null,
   "metadata": {},
   "outputs": [],
   "source": [
    "print(\"Rows in cycling data combined with met \",len(cycle_met_clean_data),len(car_met_clean_data),len(cycle_met_clean_sensor_location),len(car_met_clean_sensor_location))\n",
    "#print(\"Rows in cycling data combined with met \",)\n"
   ]
  },
  {
   "cell_type": "code",
   "execution_count": null,
   "metadata": {},
   "outputs": [],
   "source": [
    "#car_met.head()"
   ]
  },
  {
   "cell_type": "code",
   "execution_count": null,
   "metadata": {},
   "outputs": [],
   "source": [
    "#cycle_met_clean_data.head()"
   ]
  },
  {
   "cell_type": "code",
   "execution_count": null,
   "metadata": {},
   "outputs": [],
   "source": [
    "car_met_clean_sensor_location=car_met_clean_sensor_location.drop([\"SENSOR_NAVN\",\"LATITUDE\",\"LONGITUDE\",\"STREKNING_NAVN\",\"FORMAT\",\"SENSOR_STATUS\",\"SENSOR_TYPE\",\"OPPLOSNING\"],axis=1)\n",
    "#car_met_clean_sensor_location.head()"
   ]
  },
  {
   "cell_type": "code",
   "execution_count": null,
   "metadata": {},
   "outputs": [],
   "source": [
    "#cycle_sensor_location = cycle_met_clean_data.merge(location_data,on=['SENSOR_ID'])\n",
    "#car_sensor_location = car_met_clean_data.merge(location_data,on=['SENSOR_ID'])\n",
    "#car_met_cycle = cycle_met.merge(car_met,on=['TIME'],how='right')\n",
    "\n",
    "\n",
    "#cycle_sensor_location=cycle_sensor_location.drop([\"SENSOR_NAVN\",\"LATITUDE\",\"LONGITUDE\",\"STREKNING_NAVN\",\"FORMAT\",\"SENSOR_STATUS\",\"SENSOR_TYPE\",\"OPPLOSNING\"],axis=1)\n",
    "#cycle_sensor_location.head()\n"
   ]
  },
  {
   "cell_type": "code",
   "execution_count": null,
   "metadata": {},
   "outputs": [],
   "source": [
    "#print(\"Rows in cycling data combined with car on time \",len(car_met_cycle))\n",
    "#car_met_cycle.head()\n",
    "#car_sensor_location=car_sensor_location.drop([\"SENSOR_NAVN\",\"LATITUDE\",\"LONGITUDE\",\"STREKNING_NAVN\",\"FORMAT\",\"SENSOR_STATUS\",\"SENSOR_TYPE\",\"OPPLOSNING\"],axis=1)\n",
    "#car_sensor_location.head()"
   ]
  },
  {
   "cell_type": "code",
   "execution_count": null,
   "metadata": {},
   "outputs": [],
   "source": [
    "#print(car_sensor_location.shape)\n",
    "#print(cycle_sensor_location.shape)\n",
    "#print(cycle_sensor_location.isnull().sum())\n",
    "#print(car_sensor_location.isnull().sum())\n",
    "#print('location',location_data.isnull().sum())\n",
    "#location_data.index[location_data['SENSOR_ID'] == 10000210].tolist()\n",
    "#print('length',len(cycle_met_clean_data.index[cycle_met_clean_data['SENSOR_ID'] == 10000210].tolist()))\n",
    "#print(location_data.loc[location_data.index[location_data['SENSOR_ID'] == 10000210]])"
   ]
  },
  {
   "cell_type": "code",
   "execution_count": null,
   "metadata": {
    "scrolled": true
   },
   "outputs": [],
   "source": [
    "print(car_met_clean_sensor_location.shape)\n",
    "car_met_clean_sensor_location.head()\n",
    "\n",
    "\n"
   ]
  },
  {
   "cell_type": "code",
   "execution_count": null,
   "metadata": {},
   "outputs": [],
   "source": [
    "print(cycle_met_clean_data.shape)\n",
    "cycle_met_clean_data.head()"
   ]
  }
 ],
 "metadata": {
  "kernelspec": {
   "display_name": "Python 3",
   "language": "python",
   "name": "python3"
  },
  "language_info": {
   "codemirror_mode": {
    "name": "ipython",
    "version": 3
   },
   "file_extension": ".py",
   "mimetype": "text/x-python",
   "name": "python",
   "nbconvert_exporter": "python",
   "pygments_lexer": "ipython3",
   "version": "3.7.3"
  }
 },
 "nbformat": 4,
 "nbformat_minor": 2
}
